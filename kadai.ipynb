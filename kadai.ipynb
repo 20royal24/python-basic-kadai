{
  "cells": [
    {
      "cell_type": "code",
      "execution_count": 4,
      "metadata": {
        "colab": {
          "base_uri": "https://localhost:8080/"
        },
        "id": "4nvmNBAS5Mhf",
        "outputId": "dced48df-b066-4635-a854-98e4ecaa7135"
      },
      "outputs": [
        {
          "name": "stdout",
          "output_type": "stream",
          "text": [
            "75.0cm²\n"
          ]
        }
      ],
      "source": [
        "top_side=10\n",
        "bottom_side=20\n",
        "height=5\n",
        "\n",
        "#台形の面積を計算\n",
        "area=((top_side+bottom_side)*height/2)\n",
        "\n",
        "#結果を平方センチメートルで表示\n",
        "print(str(area)+\"cm²\")"
      ]
    }
  ],
  "metadata": {
    "colab": {
      "provenance": []
    },
    "kernelspec": {
      "display_name": "Python 3",
      "name": "python3"
    },
    "language_info": {
      "name": "python"
    }
  },
  "nbformat": 4,
  "nbformat_minor": 0
}
